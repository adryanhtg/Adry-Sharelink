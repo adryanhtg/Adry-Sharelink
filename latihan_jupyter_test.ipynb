{
 "cells": [
  {
   "cell_type": "code",
   "execution_count": 1,
   "id": "b7ed3342",
   "metadata": {},
   "outputs": [
    {
     "name": "stdout",
     "output_type": "stream",
     "text": [
      "yay bisa\n"
     ]
    }
   ],
   "source": [
    "print (\"yay bisa\")"
   ]
  },
  {
   "cell_type": "code",
   "execution_count": 2,
   "id": "7b0cdbe7",
   "metadata": {},
   "outputs": [
    {
     "data": {
      "text/plain": [
       "9"
      ]
     },
     "execution_count": 2,
     "metadata": {},
     "output_type": "execute_result"
    }
   ],
   "source": [
    "2+7"
   ]
  },
  {
   "cell_type": "code",
   "execution_count": 3,
   "id": "1eb82ddf",
   "metadata": {},
   "outputs": [
    {
     "name": "stdout",
     "output_type": "stream",
     "text": [
      "solve 13*4^7+978*2\n",
      "yes, sir. the answer is 1951\n"
     ]
    }
   ],
   "source": [
    "print(\"solve 13*4^7+978*2\")\n",
    "print(\"yes, sir. the answer is\", 13*4^7+978*2)"
   ]
  },
  {
   "cell_type": "code",
   "execution_count": null,
   "id": "7f5678ce",
   "metadata": {},
   "outputs": [],
   "source": []
  },
  {
   "cell_type": "code",
   "execution_count": null,
   "id": "7ba53e2d-81d1-479b-9931-f4ee42d53e59",
   "metadata": {},
   "outputs": [],
   "source": []
  }
 ],
 "metadata": {
  "kernelspec": {
   "display_name": "Python 3 (ipykernel)",
   "language": "python",
   "name": "python3"
  },
  "language_info": {
   "codemirror_mode": {
    "name": "ipython",
    "version": 3
   },
   "file_extension": ".py",
   "mimetype": "text/x-python",
   "name": "python",
   "nbconvert_exporter": "python",
   "pygments_lexer": "ipython3",
   "version": "3.10.4"
  }
 },
 "nbformat": 4,
 "nbformat_minor": 5
}
